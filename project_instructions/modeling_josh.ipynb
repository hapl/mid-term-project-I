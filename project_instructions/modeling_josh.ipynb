{
 "cells": [
  {
   "cell_type": "markdown",
   "metadata": {},
   "source": [
    "# Machine Learning\n",
    "\n",
    "In this file, instructions how to approach the challenge can be found."
   ]
  },
  {
   "cell_type": "markdown",
   "metadata": {},
   "source": [
    "We are going to work on different types of Machine Learning problems:\n",
    "\n",
    "- **Regression Problem**: The goal is to predict delay of flights.\n",
    "- **(Stretch) Multiclass Classification**: If the plane was delayed, we will predict what type of delay it is (will be).\n",
    "- **(Stretch) Binary Classification**: The goal is to predict if the flight will be cancelled."
   ]
  },
  {
   "cell_type": "code",
   "execution_count": 1,
   "metadata": {},
   "outputs": [],
   "source": [
    "import pandas as pd\n",
    "import numpy as np\n",
    "\n",
    "import matplotlib.pyplot as plt\n",
    "import seaborn as sns"
   ]
  },
  {
   "cell_type": "code",
   "execution_count": 4,
   "metadata": {},
   "outputs": [],
   "source": [
    "from sklearn.model_selection import train_test_split\n",
    "from sklearn.linear_model import LinearRegression\n",
    "from sklearn.metrics import mean_squared_error"
   ]
  },
  {
   "cell_type": "markdown",
   "metadata": {},
   "source": [
    "## Main Task: Regression Problem"
   ]
  },
  {
   "cell_type": "markdown",
   "metadata": {},
   "source": [
    "The target variable is **ARR_DELAY**. We need to be careful which columns to use and which don't. For example, DEP_DELAY is going to be the perfect predictor, but we can't use it because in real-life scenario, we want to predict the delay before the flight takes of --> We can use average delay from earlier days but not the one from the actual flight we predict.  \n",
    "\n",
    "For example, variables **CARRIER_DELAY, WEATHER_DELAY, NAS_DELAY, SECURITY_DELAY, LATE_AIRCRAFT_DELAY** shouldn't be used directly as predictors as well. However, we can create various transformations from earlier values.\n",
    "\n",
    "We will be evaluating your models by predicting the ARR_DELAY for all flights **1 week in advance**."
   ]
  },
  {
   "cell_type": "code",
   "execution_count": 5,
   "metadata": {},
   "outputs": [
    {
     "data": {
      "text/html": [
       "<div>\n",
       "<style scoped>\n",
       "    .dataframe tbody tr th:only-of-type {\n",
       "        vertical-align: middle;\n",
       "    }\n",
       "\n",
       "    .dataframe tbody tr th {\n",
       "        vertical-align: top;\n",
       "    }\n",
       "\n",
       "    .dataframe thead th {\n",
       "        text-align: right;\n",
       "    }\n",
       "</style>\n",
       "<table border=\"1\" class=\"dataframe\">\n",
       "  <thead>\n",
       "    <tr style=\"text-align: right;\">\n",
       "      <th></th>\n",
       "      <th>op_carrier_fl_num</th>\n",
       "      <th>op_unique_carrier</th>\n",
       "      <th>origin_airport_id</th>\n",
       "      <th>dest_airport_id</th>\n",
       "      <th>distance</th>\n",
       "      <th>route</th>\n",
       "      <th>month</th>\n",
       "      <th>day</th>\n",
       "      <th>arr_delay</th>\n",
       "    </tr>\n",
       "  </thead>\n",
       "  <tbody>\n",
       "    <tr>\n",
       "      <th>0</th>\n",
       "      <td>56</td>\n",
       "      <td>B6</td>\n",
       "      <td>12264</td>\n",
       "      <td>10721</td>\n",
       "      <td>413</td>\n",
       "      <td>12264-10721</td>\n",
       "      <td>1</td>\n",
       "      <td>26</td>\n",
       "      <td>-8.0</td>\n",
       "    </tr>\n",
       "    <tr>\n",
       "      <th>1</th>\n",
       "      <td>57</td>\n",
       "      <td>B6</td>\n",
       "      <td>10721</td>\n",
       "      <td>12264</td>\n",
       "      <td>413</td>\n",
       "      <td>10721-12264</td>\n",
       "      <td>1</td>\n",
       "      <td>26</td>\n",
       "      <td>-32.0</td>\n",
       "    </tr>\n",
       "    <tr>\n",
       "      <th>2</th>\n",
       "      <td>61</td>\n",
       "      <td>B6</td>\n",
       "      <td>10721</td>\n",
       "      <td>14843</td>\n",
       "      <td>1674</td>\n",
       "      <td>10721-14843</td>\n",
       "      <td>1</td>\n",
       "      <td>26</td>\n",
       "      <td>-20.0</td>\n",
       "    </tr>\n",
       "    <tr>\n",
       "      <th>3</th>\n",
       "      <td>62</td>\n",
       "      <td>B6</td>\n",
       "      <td>14027</td>\n",
       "      <td>12953</td>\n",
       "      <td>1035</td>\n",
       "      <td>14027-12953</td>\n",
       "      <td>1</td>\n",
       "      <td>26</td>\n",
       "      <td>-18.0</td>\n",
       "    </tr>\n",
       "    <tr>\n",
       "      <th>4</th>\n",
       "      <td>65</td>\n",
       "      <td>B6</td>\n",
       "      <td>12478</td>\n",
       "      <td>10140</td>\n",
       "      <td>1826</td>\n",
       "      <td>12478-10140</td>\n",
       "      <td>1</td>\n",
       "      <td>26</td>\n",
       "      <td>-11.0</td>\n",
       "    </tr>\n",
       "    <tr>\n",
       "      <th>...</th>\n",
       "      <td>...</td>\n",
       "      <td>...</td>\n",
       "      <td>...</td>\n",
       "      <td>...</td>\n",
       "      <td>...</td>\n",
       "      <td>...</td>\n",
       "      <td>...</td>\n",
       "      <td>...</td>\n",
       "      <td>...</td>\n",
       "    </tr>\n",
       "    <tr>\n",
       "      <th>1239863</th>\n",
       "      <td>51</td>\n",
       "      <td>B6</td>\n",
       "      <td>10721</td>\n",
       "      <td>13204</td>\n",
       "      <td>1121</td>\n",
       "      <td>10721-13204</td>\n",
       "      <td>1</td>\n",
       "      <td>26</td>\n",
       "      <td>-22.0</td>\n",
       "    </tr>\n",
       "    <tr>\n",
       "      <th>1239864</th>\n",
       "      <td>52</td>\n",
       "      <td>B6</td>\n",
       "      <td>13204</td>\n",
       "      <td>10721</td>\n",
       "      <td>1121</td>\n",
       "      <td>13204-10721</td>\n",
       "      <td>1</td>\n",
       "      <td>26</td>\n",
       "      <td>-3.0</td>\n",
       "    </tr>\n",
       "    <tr>\n",
       "      <th>1239865</th>\n",
       "      <td>53</td>\n",
       "      <td>B6</td>\n",
       "      <td>12478</td>\n",
       "      <td>14027</td>\n",
       "      <td>1028</td>\n",
       "      <td>12478-14027</td>\n",
       "      <td>1</td>\n",
       "      <td>26</td>\n",
       "      <td>-22.0</td>\n",
       "    </tr>\n",
       "    <tr>\n",
       "      <th>1239866</th>\n",
       "      <td>54</td>\n",
       "      <td>B6</td>\n",
       "      <td>14027</td>\n",
       "      <td>12478</td>\n",
       "      <td>1028</td>\n",
       "      <td>14027-12478</td>\n",
       "      <td>1</td>\n",
       "      <td>26</td>\n",
       "      <td>-18.0</td>\n",
       "    </tr>\n",
       "    <tr>\n",
       "      <th>1239867</th>\n",
       "      <td>55</td>\n",
       "      <td>B6</td>\n",
       "      <td>10721</td>\n",
       "      <td>11278</td>\n",
       "      <td>399</td>\n",
       "      <td>10721-11278</td>\n",
       "      <td>1</td>\n",
       "      <td>26</td>\n",
       "      <td>-25.0</td>\n",
       "    </tr>\n",
       "  </tbody>\n",
       "</table>\n",
       "<p>1239868 rows × 9 columns</p>\n",
       "</div>"
      ],
      "text/plain": [
       "         op_carrier_fl_num op_unique_carrier  origin_airport_id  \\\n",
       "0                       56                B6              12264   \n",
       "1                       57                B6              10721   \n",
       "2                       61                B6              10721   \n",
       "3                       62                B6              14027   \n",
       "4                       65                B6              12478   \n",
       "...                    ...               ...                ...   \n",
       "1239863                 51                B6              10721   \n",
       "1239864                 52                B6              13204   \n",
       "1239865                 53                B6              12478   \n",
       "1239866                 54                B6              14027   \n",
       "1239867                 55                B6              10721   \n",
       "\n",
       "         dest_airport_id  distance        route  month  day  arr_delay  \n",
       "0                  10721       413  12264-10721      1   26       -8.0  \n",
       "1                  12264       413  10721-12264      1   26      -32.0  \n",
       "2                  14843      1674  10721-14843      1   26      -20.0  \n",
       "3                  12953      1035  14027-12953      1   26      -18.0  \n",
       "4                  10140      1826  12478-10140      1   26      -11.0  \n",
       "...                  ...       ...          ...    ...  ...        ...  \n",
       "1239863            13204      1121  10721-13204      1   26      -22.0  \n",
       "1239864            10721      1121  13204-10721      1   26       -3.0  \n",
       "1239865            14027      1028  12478-14027      1   26      -22.0  \n",
       "1239866            12478      1028  14027-12478      1   26      -18.0  \n",
       "1239867            11278       399  10721-11278      1   26      -25.0  \n",
       "\n",
       "[1239868 rows x 9 columns]"
      ]
     },
     "execution_count": 5,
     "metadata": {},
     "output_type": "execute_result"
    }
   ],
   "source": [
    "df = pd.read_csv('January_flight_data.csv')\n",
    "df"
   ]
  },
  {
   "cell_type": "code",
   "execution_count": 14,
   "metadata": {},
   "outputs": [],
   "source": [
    "# drop rows with missing values\n",
    "df.dropna(inplace=True)"
   ]
  },
  {
   "cell_type": "code",
   "execution_count": 15,
   "metadata": {},
   "outputs": [
    {
     "data": {
      "text/plain": [
       "(1217645, 9)"
      ]
     },
     "execution_count": 15,
     "metadata": {},
     "output_type": "execute_result"
    }
   ],
   "source": [
    "df.shape"
   ]
  },
  {
   "cell_type": "code",
   "execution_count": 9,
   "metadata": {},
   "outputs": [
    {
     "data": {
      "text/plain": [
       "12892-14771    3105\n",
       "14771-12892    3105\n",
       "13930-12953    2430\n",
       "12953-13930    2424\n",
       "12892-12889    2199\n",
       "               ... \n",
       "14761-16133       1\n",
       "16133-14761       1\n",
       "12889-11122       1\n",
       "11122-12889       1\n",
       "12278-11267       1\n",
       "Name: route, Length: 5909, dtype: int64"
      ]
     },
     "execution_count": 9,
     "metadata": {},
     "output_type": "execute_result"
    }
   ],
   "source": [
    "df['route'].value_counts()"
   ]
  },
  {
   "cell_type": "code",
   "execution_count": 8,
   "metadata": {},
   "outputs": [
    {
     "data": {
      "text/plain": [
       "478     610\n",
       "403     590\n",
       "195     583\n",
       "425     569\n",
       "665     564\n",
       "       ... \n",
       "6564      1\n",
       "6533      1\n",
       "6705      1\n",
       "6872      1\n",
       "9301      1\n",
       "Name: op_carrier_fl_num, Length: 7079, dtype: int64"
      ]
     },
     "execution_count": 8,
     "metadata": {},
     "output_type": "execute_result"
    }
   ],
   "source": [
    "df['op_carrier_fl_num'].value_counts()"
   ]
  },
  {
   "cell_type": "code",
   "execution_count": 6,
   "metadata": {},
   "outputs": [
    {
     "data": {
      "text/plain": [
       "WN    218453\n",
       "AA    149121\n",
       "DL    143515\n",
       "OO    125634\n",
       "UA     91387\n",
       "YX     49708\n",
       "B6     47821\n",
       "MQ     47327\n",
       "OH     43815\n",
       "9E     37344\n",
       "AS     35884\n",
       "YV     33696\n",
       "EV     32189\n",
       "NK     29033\n",
       "F9     19164\n",
       "QX     18824\n",
       "ZW     16356\n",
       "PT     15802\n",
       "CP     15616\n",
       "G7     14622\n",
       "G4     13515\n",
       "HA     13412\n",
       "AX     13394\n",
       "C5      7032\n",
       "VX      5720\n",
       "EM       742\n",
       "KS       401\n",
       "9K       341\n",
       "Name: op_unique_carrier, dtype: int64"
      ]
     },
     "execution_count": 6,
     "metadata": {},
     "output_type": "execute_result"
    }
   ],
   "source": [
    "df['op_unique_carrier'].value_counts()"
   ]
  },
  {
   "cell_type": "code",
   "execution_count": 10,
   "metadata": {},
   "outputs": [
    {
     "data": {
      "text/plain": [
       "3019    3105\n",
       "5278    3105\n",
       "4074    2430\n",
       "3121    2424\n",
       "2982    2199\n",
       "        ... \n",
       "5239       1\n",
       "5907       1\n",
       "2848       1\n",
       "1108       1\n",
       "2578       1\n",
       "Name: route, Length: 5909, dtype: int64"
      ]
     },
     "execution_count": 10,
     "metadata": {},
     "output_type": "execute_result"
    }
   ],
   "source": [
    "from sklearn.preprocessing import LabelEncoder\n",
    "\n",
    "# initialize LabelEncoder\n",
    "le = LabelEncoder()\n",
    "\n",
    "# fit and transform the data\n",
    "df['op_unique_carrier'] = le.fit_transform(df['op_unique_carrier'])\n",
    "df['route'] = le.fit_transform(df['route'])\n",
    "df['route'].value_counts()"
   ]
  },
  {
   "cell_type": "code",
   "execution_count": 81,
   "metadata": {},
   "outputs": [],
   "source": [
    "X = df.drop(['origin_airport_id','month','arr_delay'], axis=1)\n",
    "y = df['arr_delay']"
   ]
  },
  {
   "cell_type": "code",
   "execution_count": 82,
   "metadata": {},
   "outputs": [
    {
     "name": "stdout",
     "output_type": "stream",
     "text": [
      "                   op_carrier_fl_num  op_unique_carrier  dest_airport_id  \\\n",
      "op_carrier_fl_num           1.000000           0.246099        -0.035986   \n",
      "op_unique_carrier           0.246099           1.000000         0.043771   \n",
      "dest_airport_id            -0.035986           0.043771         1.000000   \n",
      "distance                   -0.356135          -0.151063         0.071344   \n",
      "route                      -0.025266           0.041642         0.034984   \n",
      "day                        -0.008833          -0.009033        -0.006057   \n",
      "\n",
      "                   distance     route       day  \n",
      "op_carrier_fl_num -0.356135 -0.025266 -0.008833  \n",
      "op_unique_carrier -0.151063  0.041642 -0.009033  \n",
      "dest_airport_id    0.071344  0.034984 -0.006057  \n",
      "distance           1.000000  0.074672 -0.015244  \n",
      "route              0.074672  1.000000 -0.006159  \n",
      "day               -0.015244 -0.006159  1.000000  \n"
     ]
    },
    {
     "data": {
      "image/png": "[encoded data removed]",
      "text/plain": [
       "<Figure size 640x480 with 2 Axes>"
      ]
     },
     "metadata": {},
     "output_type": "display_data"
    }
   ],
   "source": [
    "# Assuming your independent variables are stored in a pandas DataFrame called X\n",
    "corr_matrix = X.corr()\n",
    "\n",
    "# Print the correlation matrix\n",
    "print(corr_matrix)\n",
    "\n",
    "# Create a heatmap of the correlation matrix\n",
    "sns.heatmap(corr_matrix, annot=True, cmap='coolwarm')\n",
    "\n",
    "# Show the plot\n",
    "plt.show()"
   ]
  },
  {
   "cell_type": "code",
   "execution_count": 83,
   "metadata": {},
   "outputs": [],
   "source": [
    "# split the data into training and testing datasets\n",
    "X_train, X_test, y_train, y_test = train_test_split(X, y, test_size=0.2, random_state=42)\n"
   ]
  },
  {
   "cell_type": "code",
   "execution_count": 84,
   "metadata": {},
   "outputs": [
    {
     "data": {
      "text/plain": [
       "LinearRegression()"
      ]
     },
     "execution_count": 84,
     "metadata": {},
     "output_type": "execute_result"
    }
   ],
   "source": [
    "# train a linear regression model\n",
    "lr_model = LinearRegression()\n",
    "lr_model.fit(X_train, y_train)"
   ]
  },
  {
   "cell_type": "code",
   "execution_count": 85,
   "metadata": {},
   "outputs": [
    {
     "name": "stdout",
     "output_type": "stream",
     "text": [
      "Mean Squared Error: 2598.389255703197\n"
     ]
    }
   ],
   "source": [
    "# evaluate the model on the testing dataset\n",
    "y_pred = lr_model.predict(X_test)\n",
    "mse = mean_squared_error(y_test, y_pred)\n",
    "print('Mean Squared Error:', mse)"
   ]
  },
  {
   "cell_type": "code",
   "execution_count": 86,
   "metadata": {},
   "outputs": [],
   "source": [
    "from scipy import stats"
   ]
  },
  {
   "cell_type": "code",
   "execution_count": 87,
   "metadata": {},
   "outputs": [
    {
     "data": {
      "text/plain": [
       "0.004417212930548864"
      ]
     },
     "execution_count": 87,
     "metadata": {},
     "output_type": "execute_result"
    }
   ],
   "source": [
    "r_sq = lr_model.score(X_train, y_train)\n",
    "r_sq"
   ]
  },
  {
   "cell_type": "code",
   "execution_count": 88,
   "metadata": {},
   "outputs": [
    {
     "data": {
      "text/plain": [
       "6"
      ]
     },
     "execution_count": 88,
     "metadata": {},
     "output_type": "execute_result"
    }
   ],
   "source": [
    "from sklearn.feature_selection import f_regression\n",
    "\n",
    "# Get the number of features in the model\n",
    "n_features = X_train.shape[1]\n",
    "n_features"
   ]
  },
  {
   "cell_type": "code",
   "execution_count": 89,
   "metadata": {},
   "outputs": [
    {
     "data": {
      "text/plain": [
       "0.004411080663294986"
      ]
     },
     "execution_count": 89,
     "metadata": {},
     "output_type": "execute_result"
    }
   ],
   "source": [
    "# Calculate the adjusted R-squared value\n",
    "n_samples = X_train.shape[0]\n",
    "adj_r_sq = 1 - (1 - r_sq) * (n_samples - 1) / (n_samples - n_features - 1)\n",
    "adj_r_sq"
   ]
  },
  {
   "cell_type": "code",
   "execution_count": 90,
   "metadata": {},
   "outputs": [
    {
     "data": {
      "text/plain": [
       "array([2.53771625e+03, 1.72240887e+00, 5.49086435e-01, 1.53553668e+03,\n",
       "       8.29561181e+00, 9.71897488e+02])"
      ]
     },
     "execution_count": 90,
     "metadata": {},
     "output_type": "execute_result"
    }
   ],
   "source": [
    "# Calculate the F-statistic and corresponding p-values for each feature\n",
    "f_stats, p_values = f_regression(X_train, y_train)\n",
    "\n",
    "f_stats"
   ]
  },
  {
   "cell_type": "code",
   "execution_count": 91,
   "metadata": {},
   "outputs": [
    {
     "data": {
      "text/plain": [
       "['op_carrier_fl_num',\n",
       " 'op_unique_carrier',\n",
       " 'dest_airport_id',\n",
       " 'distance',\n",
       " 'route',\n",
       " 'day']"
      ]
     },
     "execution_count": 91,
     "metadata": {},
     "output_type": "execute_result"
    }
   ],
   "source": [
    "X.columns.tolist()"
   ]
  },
  {
   "cell_type": "code",
   "execution_count": 92,
   "metadata": {},
   "outputs": [
    {
     "data": {
      "text/plain": [
       "array([0.00000000e+000, 1.89383574e-001, 4.58691395e-001, 0.00000000e+000,\n",
       "       3.97418555e-003, 2.93937403e-213])"
      ]
     },
     "execution_count": 92,
     "metadata": {},
     "output_type": "execute_result"
    }
   ],
   "source": [
    "p_values"
   ]
  },
  {
   "cell_type": "markdown",
   "metadata": {},
   "source": [
    "### Feature Engineering"
   ]
  },
  {
   "cell_type": "markdown",
   "metadata": {},
   "source": [
    "Feature engineering will play a crucial role in this problems. We have only very little attributes so we need to create some features that will have some predictive power.\n",
    "\n",
    "- weather: we can use some weather API to look for the weather in time of the scheduled departure and scheduled arrival.\n",
    "- statistics (avg, mean, median, std, min, max...): we can take a look at previous delays and compute descriptive statistics\n",
    "- airports encoding: we need to think about what to do with the airports and other categorical variables\n",
    "- time of the day: the delay probably depends on the airport traffic which varies during the day.\n",
    "- airport traffic\n",
    "- unsupervised learning as feature engineering?\n",
    "- **what are the additional options?**: Think about what we could do more to improve the model."
   ]
  },
  {
   "cell_type": "code",
   "execution_count": null,
   "metadata": {},
   "outputs": [],
   "source": []
  },
  {
   "cell_type": "code",
   "execution_count": null,
   "metadata": {},
   "outputs": [],
   "source": []
  },
  {
   "cell_type": "code",
   "execution_count": null,
   "metadata": {},
   "outputs": [],
   "source": []
  },
  {
   "cell_type": "code",
   "execution_count": null,
   "metadata": {},
   "outputs": [],
   "source": []
  },
  {
   "cell_type": "code",
   "execution_count": null,
   "metadata": {},
   "outputs": [],
   "source": []
  },
  {
   "cell_type": "markdown",
   "metadata": {},
   "source": [
    "### Feature Selection / Dimensionality Reduction"
   ]
  },
  {
   "cell_type": "markdown",
   "metadata": {},
   "source": [
    "We need to apply different selection techniques to find out which one will be the best for our problems.\n",
    "\n",
    "- Original Features vs. PCA conponents?"
   ]
  },
  {
   "cell_type": "code",
   "execution_count": null,
   "metadata": {},
   "outputs": [],
   "source": []
  },
  {
   "cell_type": "code",
   "execution_count": null,
   "metadata": {},
   "outputs": [],
   "source": []
  },
  {
   "cell_type": "code",
   "execution_count": null,
   "metadata": {},
   "outputs": [],
   "source": []
  },
  {
   "cell_type": "code",
   "execution_count": null,
   "metadata": {},
   "outputs": [],
   "source": []
  },
  {
   "cell_type": "code",
   "execution_count": null,
   "metadata": {},
   "outputs": [],
   "source": []
  },
  {
   "cell_type": "markdown",
   "metadata": {},
   "source": [
    "### Modeling"
   ]
  },
  {
   "cell_type": "markdown",
   "metadata": {},
   "source": [
    "Use different ML techniques to predict each problem.\n",
    "\n",
    "- linear / logistic / multinomial logistic regression\n",
    "- Naive Bayes\n",
    "- Random Forest\n",
    "- SVM\n",
    "- XGBoost\n",
    "- The ensemble of your own choice"
   ]
  },
  {
   "cell_type": "code",
   "execution_count": null,
   "metadata": {},
   "outputs": [],
   "source": []
  },
  {
   "cell_type": "code",
   "execution_count": null,
   "metadata": {},
   "outputs": [],
   "source": []
  },
  {
   "cell_type": "code",
   "execution_count": null,
   "metadata": {},
   "outputs": [],
   "source": []
  },
  {
   "cell_type": "code",
   "execution_count": null,
   "metadata": {},
   "outputs": [],
   "source": []
  },
  {
   "cell_type": "markdown",
   "metadata": {},
   "source": [
    "### Evaluation"
   ]
  },
  {
   "cell_type": "markdown",
   "metadata": {},
   "source": [
    "You have data from 2018 and 2019 to develop models. Use different evaluation metrics for each problem and compare the performance of different models.\n",
    "\n",
    "You are required to predict delays on **out of sample** data from **first 7 days (1st-7th) of January 2020** and to share the file with LighthouseLabs. Sample submission can be found in the file **_sample_submission.csv_**"
   ]
  },
  {
   "cell_type": "code",
   "execution_count": null,
   "metadata": {},
   "outputs": [],
   "source": []
  },
  {
   "cell_type": "code",
   "execution_count": null,
   "metadata": {},
   "outputs": [],
   "source": []
  },
  {
   "cell_type": "code",
   "execution_count": null,
   "metadata": {},
   "outputs": [],
   "source": []
  },
  {
   "cell_type": "code",
   "execution_count": null,
   "metadata": {},
   "outputs": [],
   "source": []
  },
  {
   "cell_type": "markdown",
   "metadata": {},
   "source": [
    "======================================================================\n",
    "## Stretch Tasks"
   ]
  },
  {
   "cell_type": "markdown",
   "metadata": {},
   "source": [
    "### Multiclass Classification"
   ]
  },
  {
   "cell_type": "markdown",
   "metadata": {},
   "source": [
    "The target variables are **CARRIER_DELAY, WEATHER_DELAY, NAS_DELAY, SECURITY_DELAY, LATE_AIRCRAFT_DELAY**. We need to do additional transformations because these variables are not binary but continuos. For each flight that was delayed, we need to have one of these variables as 1 and others 0.\n",
    "\n",
    "It can happen that we have two types of delays with more than 0 minutes. In this case, take the bigger one as 1 and others as 0."
   ]
  },
  {
   "cell_type": "code",
   "execution_count": null,
   "metadata": {},
   "outputs": [],
   "source": []
  },
  {
   "cell_type": "code",
   "execution_count": null,
   "metadata": {},
   "outputs": [],
   "source": []
  },
  {
   "cell_type": "code",
   "execution_count": null,
   "metadata": {},
   "outputs": [],
   "source": []
  },
  {
   "cell_type": "markdown",
   "metadata": {},
   "source": [
    "### Binary Classification"
   ]
  },
  {
   "cell_type": "markdown",
   "metadata": {},
   "source": [
    "The target variable is **CANCELLED**. The main problem here is going to be huge class imbalance. We have only very little cancelled flights with comparison to all flights. It is important to do the right sampling before training and to choose correct evaluation metrics."
   ]
  },
  {
   "cell_type": "code",
   "execution_count": null,
   "metadata": {},
   "outputs": [],
   "source": []
  },
  {
   "cell_type": "code",
   "execution_count": null,
   "metadata": {},
   "outputs": [],
   "source": []
  },
  {
   "cell_type": "code",
   "execution_count": null,
   "metadata": {},
   "outputs": [],
   "source": []
  }
 ],
 "metadata": {
  "kernelspec": {
   "display_name": "Python 3 (ipykernel)",
   "language": "python",
   "name": "python3"
  },
  "language_info": {
   "codemirror_mode": {
    "name": "ipython",
    "version": 3
   },
   "file_extension": ".py",
   "mimetype": "text/x-python",
   "name": "python",
   "nbconvert_exporter": "python",
   "pygments_lexer": "ipython3",
   "version": "3.9.13"
  }
 },
 "nbformat": 4,
 "nbformat_minor": 4
}
