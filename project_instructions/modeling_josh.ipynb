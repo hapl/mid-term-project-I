{
 "cells": [
  {
   "cell_type": "markdown",
   "metadata": {},
   "source": [
    "# Machine Learning\n",
    "\n",
    "In this file, instructions how to approach the challenge can be found."
   ]
  },
  {
   "cell_type": "markdown",
   "metadata": {},
   "source": [
    "We are going to work on different types of Machine Learning problems:\n",
    "\n",
    "- **Regression Problem**: The goal is to predict delay of flights.\n",
    "- **(Stretch) Multiclass Classification**: If the plane was delayed, we will predict what type of delay it is (will be).\n",
    "- **(Stretch) Binary Classification**: The goal is to predict if the flight will be cancelled."
   ]
  },
  {
   "cell_type": "code",
   "execution_count": 2,
   "metadata": {},
   "outputs": [],
   "source": [
    "import pandas as pd\n",
    "import numpy as np\n",
    "\n",
    "import matplotlib.pyplot as plt\n",
    "import seaborn as sns"
   ]
  },
  {
   "cell_type": "code",
   "execution_count": 3,
   "metadata": {},
   "outputs": [],
   "source": [
    "from sklearn.model_selection import train_test_split\n",
    "from sklearn.linear_model import LinearRegression\n",
    "from sklearn.metrics import mean_squared_error"
   ]
  },
  {
   "cell_type": "markdown",
   "metadata": {},
   "source": [
    "## Main Task: Regression Problem"
   ]
  },
  {
   "cell_type": "markdown",
   "metadata": {},
   "source": [
    "The target variable is **ARR_DELAY**. We need to be careful which columns to use and which don't. For example, DEP_DELAY is going to be the perfect predictor, but we can't use it because in real-life scenario, we want to predict the delay before the flight takes of --> We can use average delay from earlier days but not the one from the actual flight we predict.  \n",
    "\n",
    "For example, variables **CARRIER_DELAY, WEATHER_DELAY, NAS_DELAY, SECURITY_DELAY, LATE_AIRCRAFT_DELAY** shouldn't be used directly as predictors as well. However, we can create various transformations from earlier values.\n",
    "\n",
    "We will be evaluating your models by predicting the ARR_DELAY for all flights **1 week in advance**."
   ]
  },
  {
   "cell_type": "code",
   "execution_count": 4,
   "metadata": {},
   "outputs": [
    {
     "data": {
      "text/html": [
       "<div>\n",
       "<style scoped>\n",
       "    .dataframe tbody tr th:only-of-type {\n",
       "        vertical-align: middle;\n",
       "    }\n",
       "\n",
       "    .dataframe tbody tr th {\n",
       "        vertical-align: top;\n",
       "    }\n",
       "\n",
       "    .dataframe thead th {\n",
       "        text-align: right;\n",
       "    }\n",
       "</style>\n",
       "<table border=\"1\" class=\"dataframe\">\n",
       "  <thead>\n",
       "    <tr style=\"text-align: right;\">\n",
       "      <th></th>\n",
       "      <th>op_carrier_fl_num</th>\n",
       "      <th>op_unique_carrier</th>\n",
       "      <th>origin_airport_id</th>\n",
       "      <th>dest_airport_id</th>\n",
       "      <th>distance</th>\n",
       "      <th>route</th>\n",
       "      <th>month</th>\n",
       "      <th>day</th>\n",
       "      <th>arr_delay</th>\n",
       "    </tr>\n",
       "  </thead>\n",
       "  <tbody>\n",
       "    <tr>\n",
       "      <th>0</th>\n",
       "      <td>56</td>\n",
       "      <td>B6</td>\n",
       "      <td>12264</td>\n",
       "      <td>10721</td>\n",
       "      <td>413</td>\n",
       "      <td>12264-10721</td>\n",
       "      <td>1</td>\n",
       "      <td>26</td>\n",
       "      <td>-8.0</td>\n",
       "    </tr>\n",
       "    <tr>\n",
       "      <th>1</th>\n",
       "      <td>57</td>\n",
       "      <td>B6</td>\n",
       "      <td>10721</td>\n",
       "      <td>12264</td>\n",
       "      <td>413</td>\n",
       "      <td>10721-12264</td>\n",
       "      <td>1</td>\n",
       "      <td>26</td>\n",
       "      <td>-32.0</td>\n",
       "    </tr>\n",
       "    <tr>\n",
       "      <th>2</th>\n",
       "      <td>61</td>\n",
       "      <td>B6</td>\n",
       "      <td>10721</td>\n",
       "      <td>14843</td>\n",
       "      <td>1674</td>\n",
       "      <td>10721-14843</td>\n",
       "      <td>1</td>\n",
       "      <td>26</td>\n",
       "      <td>-20.0</td>\n",
       "    </tr>\n",
       "    <tr>\n",
       "      <th>3</th>\n",
       "      <td>62</td>\n",
       "      <td>B6</td>\n",
       "      <td>14027</td>\n",
       "      <td>12953</td>\n",
       "      <td>1035</td>\n",
       "      <td>14027-12953</td>\n",
       "      <td>1</td>\n",
       "      <td>26</td>\n",
       "      <td>-18.0</td>\n",
       "    </tr>\n",
       "    <tr>\n",
       "      <th>4</th>\n",
       "      <td>65</td>\n",
       "      <td>B6</td>\n",
       "      <td>12478</td>\n",
       "      <td>10140</td>\n",
       "      <td>1826</td>\n",
       "      <td>12478-10140</td>\n",
       "      <td>1</td>\n",
       "      <td>26</td>\n",
       "      <td>-11.0</td>\n",
       "    </tr>\n",
       "    <tr>\n",
       "      <th>...</th>\n",
       "      <td>...</td>\n",
       "      <td>...</td>\n",
       "      <td>...</td>\n",
       "      <td>...</td>\n",
       "      <td>...</td>\n",
       "      <td>...</td>\n",
       "      <td>...</td>\n",
       "      <td>...</td>\n",
       "      <td>...</td>\n",
       "    </tr>\n",
       "    <tr>\n",
       "      <th>1239863</th>\n",
       "      <td>51</td>\n",
       "      <td>B6</td>\n",
       "      <td>10721</td>\n",
       "      <td>13204</td>\n",
       "      <td>1121</td>\n",
       "      <td>10721-13204</td>\n",
       "      <td>1</td>\n",
       "      <td>26</td>\n",
       "      <td>-22.0</td>\n",
       "    </tr>\n",
       "    <tr>\n",
       "      <th>1239864</th>\n",
       "      <td>52</td>\n",
       "      <td>B6</td>\n",
       "      <td>13204</td>\n",
       "      <td>10721</td>\n",
       "      <td>1121</td>\n",
       "      <td>13204-10721</td>\n",
       "      <td>1</td>\n",
       "      <td>26</td>\n",
       "      <td>-3.0</td>\n",
       "    </tr>\n",
       "    <tr>\n",
       "      <th>1239865</th>\n",
       "      <td>53</td>\n",
       "      <td>B6</td>\n",
       "      <td>12478</td>\n",
       "      <td>14027</td>\n",
       "      <td>1028</td>\n",
       "      <td>12478-14027</td>\n",
       "      <td>1</td>\n",
       "      <td>26</td>\n",
       "      <td>-22.0</td>\n",
       "    </tr>\n",
       "    <tr>\n",
       "      <th>1239866</th>\n",
       "      <td>54</td>\n",
       "      <td>B6</td>\n",
       "      <td>14027</td>\n",
       "      <td>12478</td>\n",
       "      <td>1028</td>\n",
       "      <td>14027-12478</td>\n",
       "      <td>1</td>\n",
       "      <td>26</td>\n",
       "      <td>-18.0</td>\n",
       "    </tr>\n",
       "    <tr>\n",
       "      <th>1239867</th>\n",
       "      <td>55</td>\n",
       "      <td>B6</td>\n",
       "      <td>10721</td>\n",
       "      <td>11278</td>\n",
       "      <td>399</td>\n",
       "      <td>10721-11278</td>\n",
       "      <td>1</td>\n",
       "      <td>26</td>\n",
       "      <td>-25.0</td>\n",
       "    </tr>\n",
       "  </tbody>\n",
       "</table>\n",
       "<p>1239868 rows × 9 columns</p>\n",
       "</div>"
      ],
      "text/plain": [
       "         op_carrier_fl_num op_unique_carrier  origin_airport_id  \\\n",
       "0                       56                B6              12264   \n",
       "1                       57                B6              10721   \n",
       "2                       61                B6              10721   \n",
       "3                       62                B6              14027   \n",
       "4                       65                B6              12478   \n",
       "...                    ...               ...                ...   \n",
       "1239863                 51                B6              10721   \n",
       "1239864                 52                B6              13204   \n",
       "1239865                 53                B6              12478   \n",
       "1239866                 54                B6              14027   \n",
       "1239867                 55                B6              10721   \n",
       "\n",
       "         dest_airport_id  distance        route  month  day  arr_delay  \n",
       "0                  10721       413  12264-10721      1   26       -8.0  \n",
       "1                  12264       413  10721-12264      1   26      -32.0  \n",
       "2                  14843      1674  10721-14843      1   26      -20.0  \n",
       "3                  12953      1035  14027-12953      1   26      -18.0  \n",
       "4                  10140      1826  12478-10140      1   26      -11.0  \n",
       "...                  ...       ...          ...    ...  ...        ...  \n",
       "1239863            13204      1121  10721-13204      1   26      -22.0  \n",
       "1239864            10721      1121  13204-10721      1   26       -3.0  \n",
       "1239865            14027      1028  12478-14027      1   26      -22.0  \n",
       "1239866            12478      1028  14027-12478      1   26      -18.0  \n",
       "1239867            11278       399  10721-11278      1   26      -25.0  \n",
       "\n",
       "[1239868 rows x 9 columns]"
      ]
     },
     "execution_count": 4,
     "metadata": {},
     "output_type": "execute_result"
    }
   ],
   "source": [
    "df = pd.read_csv('January_flight_data.csv')\n",
    "df"
   ]
  },
  {
   "cell_type": "code",
   "execution_count": 5,
   "metadata": {},
   "outputs": [],
   "source": [
    "# drop rows with missing values\n",
    "df.dropna(inplace=True)"
   ]
  },
  {
   "cell_type": "code",
   "execution_count": 6,
   "metadata": {},
   "outputs": [
    {
     "data": {
      "text/plain": [
       "(1217645, 9)"
      ]
     },
     "execution_count": 6,
     "metadata": {},
     "output_type": "execute_result"
    }
   ],
   "source": [
    "df.shape"
   ]
  },
  {
   "cell_type": "code",
   "execution_count": 7,
   "metadata": {},
   "outputs": [
    {
     "data": {
      "text/plain": [
       "14771-12892    3015\n",
       "12892-14771    3013\n",
       "13930-12953    2317\n",
       "12953-13930    2306\n",
       "12892-12889    2196\n",
       "               ... \n",
       "14761-16133       1\n",
       "16133-14761       1\n",
       "12889-11122       1\n",
       "11122-12889       1\n",
       "12278-11267       1\n",
       "Name: route, Length: 5907, dtype: int64"
      ]
     },
     "execution_count": 7,
     "metadata": {},
     "output_type": "execute_result"
    }
   ],
   "source": [
    "df['route'].value_counts()"
   ]
  },
  {
   "cell_type": "code",
   "execution_count": 8,
   "metadata": {},
   "outputs": [
    {
     "data": {
      "text/plain": [
       "478     606\n",
       "403     585\n",
       "195     583\n",
       "425     566\n",
       "665     560\n",
       "       ... \n",
       "6624      1\n",
       "6829      1\n",
       "6715      1\n",
       "6388      1\n",
       "9301      1\n",
       "Name: op_carrier_fl_num, Length: 7079, dtype: int64"
      ]
     },
     "execution_count": 8,
     "metadata": {},
     "output_type": "execute_result"
    }
   ],
   "source": [
    "df['op_carrier_fl_num'].value_counts()"
   ]
  },
  {
   "cell_type": "code",
   "execution_count": 9,
   "metadata": {},
   "outputs": [
    {
     "data": {
      "text/plain": [
       "WN    214258\n",
       "AA    147368\n",
       "DL    143003\n",
       "OO    122315\n",
       "UA     90531\n",
       "YX     48487\n",
       "B6     46725\n",
       "MQ     45297\n",
       "OH     42971\n",
       "9E     36743\n",
       "AS     35328\n",
       "YV     33161\n",
       "EV     31324\n",
       "NK     28808\n",
       "F9     18997\n",
       "QX     18526\n",
       "CP     15491\n",
       "PT     15425\n",
       "ZW     15231\n",
       "G7     14207\n",
       "G4     13424\n",
       "HA     13390\n",
       "AX     12835\n",
       "C5      6677\n",
       "VX      5715\n",
       "EM       720\n",
       "KS       348\n",
       "9K       340\n",
       "Name: op_unique_carrier, dtype: int64"
      ]
     },
     "execution_count": 9,
     "metadata": {},
     "output_type": "execute_result"
    }
   ],
   "source": [
    "df['op_unique_carrier'].value_counts()"
   ]
  },
  {
   "cell_type": "code",
   "execution_count": 10,
   "metadata": {},
   "outputs": [
    {
     "data": {
      "text/plain": [
       "5276    3015\n",
       "3018    3013\n",
       "4072    2317\n",
       "3120    2306\n",
       "2981    2196\n",
       "        ... \n",
       "5237       1\n",
       "5905       1\n",
       "2847       1\n",
       "1108       1\n",
       "2577       1\n",
       "Name: route, Length: 5907, dtype: int64"
      ]
     },
     "execution_count": 10,
     "metadata": {},
     "output_type": "execute_result"
    }
   ],
   "source": [
    "from sklearn.preprocessing import LabelEncoder\n",
    "\n",
    "# initialize LabelEncoder\n",
    "le = LabelEncoder()\n",
    "\n",
    "# fit and transform the data\n",
    "df['op_unique_carrier'] = le.fit_transform(df['op_unique_carrier'])\n",
    "df['route'] = le.fit_transform(df['route'])\n",
    "df['route'].value_counts()"
   ]
  },
  {
   "cell_type": "code",
   "execution_count": 11,
   "metadata": {},
   "outputs": [],
   "source": [
    "X = df.drop(['month','arr_delay'], axis=1)\n",
    "y = df['arr_delay']"
   ]
  },
  {
   "cell_type": "code",
   "execution_count": 12,
   "metadata": {},
   "outputs": [
    {
     "name": "stdout",
     "output_type": "stream",
     "text": [
      "                   op_carrier_fl_num  op_unique_carrier  origin_airport_id  \\\n",
      "op_carrier_fl_num           1.000000           0.246099          -0.028585   \n",
      "op_unique_carrier           0.246099           1.000000           0.043598   \n",
      "origin_airport_id          -0.028585           0.043598           1.000000   \n",
      "dest_airport_id            -0.035986           0.043771           0.020916   \n",
      "distance                   -0.356135          -0.151063           0.071430   \n",
      "route                      -0.025271           0.041639           0.996353   \n",
      "day                        -0.008833          -0.009033          -0.006290   \n",
      "\n",
      "                   dest_airport_id  distance     route       day  \n",
      "op_carrier_fl_num        -0.035986 -0.356135 -0.025271 -0.008833  \n",
      "op_unique_carrier         0.043771 -0.151063  0.041639 -0.009033  \n",
      "origin_airport_id         0.020916  0.071430  0.996353 -0.006290  \n",
      "dest_airport_id           1.000000  0.071344  0.034985 -0.006057  \n",
      "distance                  0.071344  1.000000  0.074673 -0.015244  \n",
      "route                     0.034985  0.074673  1.000000 -0.006159  \n",
      "day                      -0.006057 -0.015244 -0.006159  1.000000  \n"
     ]
    },
    {
     "data": {
      "image/png": "[encoded data removed]",
      "text/plain": [
       "<Figure size 640x480 with 2 Axes>"
      ]
     },
     "metadata": {},
     "output_type": "display_data"
    }
   ],
   "source": [
    "# Assuming your independent variables are stored in a pandas DataFrame called X\n",
    "corr_matrix = X.corr()\n",
    "\n",
    "# Print the correlation matrix\n",
    "print(corr_matrix)\n",
    "\n",
    "# Create a heatmap of the correlation matrix\n",
    "sns.heatmap(corr_matrix, annot=True, cmap='coolwarm')\n",
    "\n",
    "# Show the plot\n",
    "plt.show()"
   ]
  },
  {
   "cell_type": "code",
   "execution_count": 13,
   "metadata": {},
   "outputs": [],
   "source": [
    "from sklearn.preprocessing import StandardScaler\n",
    "\n",
    "# Initialize the StandardScaler\n",
    "scaler = StandardScaler()\n",
    "\n",
    "# Scale the selected columns\n",
    "X_scaled = scaler.fit_transform(X)"
   ]
  },
  {
   "cell_type": "code",
   "execution_count": 14,
   "metadata": {},
   "outputs": [],
   "source": [
    "# split the data into training and testing datasets\n",
    "X_train, X_test, y_train, y_test = train_test_split(X_scaled, y, test_size=0.2, random_state=42)\n"
   ]
  },
  {
   "cell_type": "code",
   "execution_count": 15,
   "metadata": {},
   "outputs": [
    {
     "data": {
      "text/plain": [
       "LinearRegression()"
      ]
     },
     "execution_count": 15,
     "metadata": {},
     "output_type": "execute_result"
    }
   ],
   "source": [
    "# train a linear regression model\n",
    "lr_model = LinearRegression()\n",
    "lr_model.fit(X_train, y_train)"
   ]
  },
  {
   "cell_type": "code",
   "execution_count": 16,
   "metadata": {},
   "outputs": [
    {
     "name": "stdout",
     "output_type": "stream",
     "text": [
      "Mean Squared Error: 2598.292693517108\n"
     ]
    }
   ],
   "source": [
    "# evaluate the model on the testing dataset\n",
    "y_pred = lr_model.predict(X_test)\n",
    "mse = mean_squared_error(y_test, y_pred)\n",
    "print('Mean Squared Error:', mse)"
   ]
  },
  {
   "cell_type": "code",
   "execution_count": 17,
   "metadata": {},
   "outputs": [],
   "source": [
    "from scipy import stats"
   ]
  },
  {
   "cell_type": "code",
   "execution_count": 18,
   "metadata": {},
   "outputs": [
    {
     "data": {
      "text/plain": [
       "0.00442542396874368"
      ]
     },
     "execution_count": 18,
     "metadata": {},
     "output_type": "execute_result"
    }
   ],
   "source": [
    "r_sq = lr_model.score(X_train, y_train)\n",
    "r_sq"
   ]
  },
  {
   "cell_type": "code",
   "execution_count": 19,
   "metadata": {},
   "outputs": [
    {
     "data": {
      "text/plain": [
       "7"
      ]
     },
     "execution_count": 19,
     "metadata": {},
     "output_type": "execute_result"
    }
   ],
   "source": [
    "from sklearn.feature_selection import f_regression\n",
    "\n",
    "# Get the number of features in the model\n",
    "n_features = X_train.shape[1]\n",
    "n_features"
   ]
  },
  {
   "cell_type": "code",
   "execution_count": 20,
   "metadata": {},
   "outputs": [
    {
     "data": {
      "text/plain": [
       "0.004418269708608036"
      ]
     },
     "execution_count": 20,
     "metadata": {},
     "output_type": "execute_result"
    }
   ],
   "source": [
    "# Calculate the adjusted R-squared value\n",
    "n_samples = X_train.shape[0]\n",
    "adj_r_sq = 1 - (1 - r_sq) * (n_samples - 1) / (n_samples - n_features - 1)\n",
    "adj_r_sq"
   ]
  },
  {
   "cell_type": "code",
   "execution_count": 21,
   "metadata": {},
   "outputs": [
    {
     "data": {
      "text/plain": [
       "array([2.53771625e+03, 1.72240887e+00, 7.88111543e+00, 5.49086435e-01,\n",
       "       1.53553668e+03, 8.31658518e+00, 9.71897488e+02])"
      ]
     },
     "execution_count": 21,
     "metadata": {},
     "output_type": "execute_result"
    }
   ],
   "source": [
    "# Calculate the F-statistic and corresponding p-values for each feature\n",
    "f_stats, p_values = f_regression(X_train, y_train)\n",
    "\n",
    "f_stats"
   ]
  },
  {
   "cell_type": "code",
   "execution_count": 22,
   "metadata": {},
   "outputs": [
    {
     "data": {
      "text/plain": [
       "['op_carrier_fl_num',\n",
       " 'op_unique_carrier',\n",
       " 'origin_airport_id',\n",
       " 'dest_airport_id',\n",
       " 'distance',\n",
       " 'route',\n",
       " 'day']"
      ]
     },
     "execution_count": 22,
     "metadata": {},
     "output_type": "execute_result"
    }
   ],
   "source": [
    "X.columns.tolist()"
   ]
  },
  {
   "cell_type": "code",
   "execution_count": 23,
   "metadata": {},
   "outputs": [
    {
     "data": {
      "text/plain": [
       "array([0.00000000e+000, 1.89383574e-001, 4.99546526e-003, 4.58691395e-001,\n",
       "       0.00000000e+000, 3.92855648e-003, 2.93937403e-213])"
      ]
     },
     "execution_count": 23,
     "metadata": {},
     "output_type": "execute_result"
    }
   ],
   "source": [
    "p_values"
   ]
  },
  {
   "cell_type": "code",
   "execution_count": null,
   "metadata": {},
   "outputs": [],
   "source": []
  },
  {
   "cell_type": "markdown",
   "metadata": {},
   "source": [
    "# Random Forest Classifier"
   ]
  },
  {
   "cell_type": "code",
   "execution_count": 24,
   "metadata": {},
   "outputs": [],
   "source": [
    "from sklearn.ensemble import RandomForestClassifier\n",
    "\n",
    "# Initialize the random forest classifier with 100 trees\n",
    "rfc = RandomForestClassifier(n_estimators=100, random_state=42)"
   ]
  },
  {
   "cell_type": "code",
   "execution_count": 25,
   "metadata": {},
   "outputs": [],
   "source": [
    "y = y[0:5000]"
   ]
  },
  {
   "cell_type": "code",
   "execution_count": 26,
   "metadata": {},
   "outputs": [
    {
     "data": {
      "text/html": [
       "<div>\n",
       "<style scoped>\n",
       "    .dataframe tbody tr th:only-of-type {\n",
       "        vertical-align: middle;\n",
       "    }\n",
       "\n",
       "    .dataframe tbody tr th {\n",
       "        vertical-align: top;\n",
       "    }\n",
       "\n",
       "    .dataframe thead th {\n",
       "        text-align: right;\n",
       "    }\n",
       "</style>\n",
       "<table border=\"1\" class=\"dataframe\">\n",
       "  <thead>\n",
       "    <tr style=\"text-align: right;\">\n",
       "      <th></th>\n",
       "      <th>origin_airport_id</th>\n",
       "      <th>distance</th>\n",
       "      <th>route</th>\n",
       "      <th>month</th>\n",
       "      <th>day</th>\n",
       "      <th>arr_delay</th>\n",
       "    </tr>\n",
       "  </thead>\n",
       "  <tbody>\n",
       "    <tr>\n",
       "      <th>0</th>\n",
       "      <td>12264</td>\n",
       "      <td>413</td>\n",
       "      <td>2388</td>\n",
       "      <td>1</td>\n",
       "      <td>26</td>\n",
       "      <td>-8.0</td>\n",
       "    </tr>\n",
       "    <tr>\n",
       "      <th>1</th>\n",
       "      <td>10721</td>\n",
       "      <td>413</td>\n",
       "      <td>597</td>\n",
       "      <td>1</td>\n",
       "      <td>26</td>\n",
       "      <td>-32.0</td>\n",
       "    </tr>\n",
       "    <tr>\n",
       "      <th>2</th>\n",
       "      <td>10721</td>\n",
       "      <td>1674</td>\n",
       "      <td>631</td>\n",
       "      <td>1</td>\n",
       "      <td>26</td>\n",
       "      <td>-20.0</td>\n",
       "    </tr>\n",
       "    <tr>\n",
       "      <th>3</th>\n",
       "      <td>14027</td>\n",
       "      <td>1035</td>\n",
       "      <td>4203</td>\n",
       "      <td>1</td>\n",
       "      <td>26</td>\n",
       "      <td>-18.0</td>\n",
       "    </tr>\n",
       "    <tr>\n",
       "      <th>4</th>\n",
       "      <td>12478</td>\n",
       "      <td>1826</td>\n",
       "      <td>2714</td>\n",
       "      <td>1</td>\n",
       "      <td>26</td>\n",
       "      <td>-11.0</td>\n",
       "    </tr>\n",
       "    <tr>\n",
       "      <th>...</th>\n",
       "      <td>...</td>\n",
       "      <td>...</td>\n",
       "      <td>...</td>\n",
       "      <td>...</td>\n",
       "      <td>...</td>\n",
       "      <td>...</td>\n",
       "    </tr>\n",
       "    <tr>\n",
       "      <th>4999</th>\n",
       "      <td>11433</td>\n",
       "      <td>500</td>\n",
       "      <td>1710</td>\n",
       "      <td>1</td>\n",
       "      <td>26</td>\n",
       "      <td>-24.0</td>\n",
       "    </tr>\n",
       "    <tr>\n",
       "      <th>5000</th>\n",
       "      <td>14869</td>\n",
       "      <td>689</td>\n",
       "      <td>5495</td>\n",
       "      <td>1</td>\n",
       "      <td>26</td>\n",
       "      <td>-9.0</td>\n",
       "    </tr>\n",
       "    <tr>\n",
       "      <th>5001</th>\n",
       "      <td>13487</td>\n",
       "      <td>622</td>\n",
       "      <td>3672</td>\n",
       "      <td>1</td>\n",
       "      <td>26</td>\n",
       "      <td>-20.0</td>\n",
       "    </tr>\n",
       "    <tr>\n",
       "      <th>5002</th>\n",
       "      <td>11433</td>\n",
       "      <td>235</td>\n",
       "      <td>1761</td>\n",
       "      <td>1</td>\n",
       "      <td>26</td>\n",
       "      <td>12.0</td>\n",
       "    </tr>\n",
       "    <tr>\n",
       "      <th>5003</th>\n",
       "      <td>10397</td>\n",
       "      <td>332</td>\n",
       "      <td>207</td>\n",
       "      <td>1</td>\n",
       "      <td>26</td>\n",
       "      <td>-12.0</td>\n",
       "    </tr>\n",
       "  </tbody>\n",
       "</table>\n",
       "<p>5000 rows × 6 columns</p>\n",
       "</div>"
      ],
      "text/plain": [
       "      origin_airport_id  distance  route  month  day  arr_delay\n",
       "0                 12264       413   2388      1   26       -8.0\n",
       "1                 10721       413    597      1   26      -32.0\n",
       "2                 10721      1674    631      1   26      -20.0\n",
       "3                 14027      1035   4203      1   26      -18.0\n",
       "4                 12478      1826   2714      1   26      -11.0\n",
       "...                 ...       ...    ...    ...  ...        ...\n",
       "4999              11433       500   1710      1   26      -24.0\n",
       "5000              14869       689   5495      1   26       -9.0\n",
       "5001              13487       622   3672      1   26      -20.0\n",
       "5002              11433       235   1761      1   26       12.0\n",
       "5003              10397       332    207      1   26      -12.0\n",
       "\n",
       "[5000 rows x 6 columns]"
      ]
     },
     "execution_count": 26,
     "metadata": {},
     "output_type": "execute_result"
    }
   ],
   "source": [
    "X = df.drop(['op_carrier_fl_num', 'op_unique_carrier', 'dest_airport_id'], axis=1)[0:5000]\n",
    "X"
   ]
  },
  {
   "cell_type": "code",
   "execution_count": 27,
   "metadata": {},
   "outputs": [],
   "source": [
    "from sklearn.preprocessing import StandardScaler\n",
    "\n",
    "# Initialize the StandardScaler\n",
    "scaler = StandardScaler()\n",
    "\n",
    "# Scale the selected columns\n",
    "X_scaled = scaler.fit_transform(X)"
   ]
  },
  {
   "cell_type": "code",
   "execution_count": 28,
   "metadata": {},
   "outputs": [],
   "source": [
    "# Split your data into training and test sets\n",
    "X_train, X_test, y_train, y_test = train_test_split(X_scaled, y, test_size=0.2, random_state=42)"
   ]
  },
  {
   "cell_type": "code",
   "execution_count": 29,
   "metadata": {},
   "outputs": [
    {
     "data": {
      "text/plain": [
       "RandomForestClassifier(random_state=42)"
      ]
     },
     "execution_count": 29,
     "metadata": {},
     "output_type": "execute_result"
    }
   ],
   "source": [
    "# Fit the classifier to the training data\n",
    "rfc.fit(X_train, y_train)"
   ]
  },
  {
   "cell_type": "code",
   "execution_count": 30,
   "metadata": {},
   "outputs": [],
   "source": [
    "# Predict the labels of the test data\n",
    "y_pred = rfc.predict(X_test)"
   ]
  },
  {
   "cell_type": "code",
   "execution_count": 31,
   "metadata": {},
   "outputs": [
    {
     "name": "stdout",
     "output_type": "stream",
     "text": [
      "Accuracy: 0.7\n",
      "Classification Report:\n",
      "               precision    recall  f1-score   support\n",
      "\n",
      "       -56.0       0.00      0.00      0.00         1\n",
      "       -47.0       0.00      0.00      0.00         1\n",
      "       -46.0       0.00      0.00      0.00         1\n",
      "       -45.0       0.00      0.00      0.00         0\n",
      "       -44.0       0.00      0.00      0.00         2\n",
      "       -43.0       0.00      0.00      0.00         1\n",
      "       -42.0       0.00      0.00      0.00         1\n",
      "       -41.0       0.00      0.00      0.00         2\n",
      "       -40.0       0.00      0.00      0.00         2\n",
      "       -39.0       0.00      0.00      0.00         3\n",
      "       -38.0       0.00      0.00      0.00         3\n",
      "       -37.0       0.00      0.00      0.00         3\n",
      "       -36.0       0.50      0.17      0.25         6\n",
      "       -35.0       0.00      0.00      0.00         3\n",
      "       -34.0       0.00      0.00      0.00         3\n",
      "       -33.0       0.33      0.11      0.17         9\n",
      "       -32.0       0.00      0.00      0.00         5\n",
      "       -31.0       0.40      0.13      0.20        15\n",
      "       -30.0       0.00      0.00      0.00         7\n",
      "       -29.0       0.13      0.22      0.17         9\n",
      "       -28.0       0.53      0.59      0.56        17\n",
      "       -27.0       0.35      0.55      0.43        11\n",
      "       -26.0       0.58      0.73      0.65        15\n",
      "       -25.0       0.86      0.79      0.83        24\n",
      "       -24.0       0.58      0.79      0.67        14\n",
      "       -23.0       0.79      0.75      0.77        20\n",
      "       -22.0       0.79      0.97      0.87        32\n",
      "       -21.0       0.87      0.87      0.87        30\n",
      "       -20.0       0.88      0.88      0.88        26\n",
      "       -19.0       0.96      1.00      0.98        27\n",
      "       -18.0       1.00      0.95      0.98        21\n",
      "       -17.0       0.97      1.00      0.99        34\n",
      "       -16.0       1.00      1.00      1.00        29\n",
      "       -15.0       1.00      1.00      1.00        25\n",
      "       -14.0       1.00      1.00      1.00        24\n",
      "       -13.0       1.00      1.00      1.00        35\n",
      "       -12.0       1.00      1.00      1.00        30\n",
      "       -11.0       1.00      1.00      1.00        31\n",
      "       -10.0       1.00      1.00      1.00        30\n",
      "        -9.0       1.00      1.00      1.00        36\n",
      "        -8.0       1.00      0.96      0.98        26\n",
      "        -7.0       0.95      0.95      0.95        21\n",
      "        -6.0       0.90      1.00      0.95        28\n",
      "        -5.0       0.90      0.79      0.84        24\n",
      "        -4.0       0.81      0.85      0.83        20\n",
      "        -3.0       0.88      0.91      0.90        33\n",
      "        -2.0       0.67      0.80      0.73        20\n",
      "        -1.0       0.70      0.85      0.77        27\n",
      "         0.0       0.45      0.56      0.50         9\n",
      "         1.0       0.50      0.47      0.48        15\n",
      "         2.0       0.48      0.55      0.51        20\n",
      "         3.0       0.50      0.40      0.44        15\n",
      "         4.0       0.20      0.33      0.25         6\n",
      "         5.0       0.15      0.25      0.19         8\n",
      "         6.0       0.67      0.15      0.25        13\n",
      "         7.0       0.00      0.00      0.00         8\n",
      "         8.0       0.43      0.23      0.30        13\n",
      "         9.0       0.07      0.25      0.11         4\n",
      "        10.0       0.14      0.25      0.18         4\n",
      "        11.0       0.00      0.00      0.00         7\n",
      "        12.0       0.33      0.17      0.22         6\n",
      "        13.0       0.00      0.00      0.00         4\n",
      "        14.0       0.00      0.00      0.00         3\n",
      "        15.0       0.00      0.00      0.00         6\n",
      "        16.0       0.14      0.14      0.14         7\n",
      "        17.0       0.00      0.00      0.00         2\n",
      "        18.0       0.00      0.00      0.00         3\n",
      "        19.0       0.00      0.00      0.00         2\n",
      "        20.0       0.00      0.00      0.00         2\n",
      "        21.0       0.00      0.00      0.00         2\n",
      "        22.0       0.00      0.00      0.00         3\n",
      "        23.0       0.00      0.00      0.00         2\n",
      "        24.0       0.00      0.00      0.00         2\n",
      "        25.0       0.00      0.00      0.00         3\n",
      "        26.0       0.33      0.20      0.25         5\n",
      "        27.0       0.00      0.00      0.00         2\n",
      "        29.0       0.00      0.00      0.00         1\n",
      "        31.0       0.00      0.00      0.00         1\n",
      "        32.0       0.00      0.00      0.00         0\n",
      "        33.0       0.00      0.00      0.00         1\n",
      "        34.0       0.00      0.00      0.00         1\n",
      "        36.0       0.00      0.00      0.00         2\n",
      "        38.0       0.00      0.00      0.00         1\n",
      "        39.0       0.00      0.00      0.00         3\n",
      "        43.0       0.00      0.00      0.00         0\n",
      "        45.0       0.00      0.00      0.00         1\n",
      "        46.0       0.00      0.00      0.00         1\n",
      "        47.0       0.00      0.00      0.00         1\n",
      "        49.0       0.00      0.00      0.00         1\n",
      "        50.0       0.00      0.00      0.00         0\n",
      "        51.0       0.00      0.00      0.00         1\n",
      "        52.0       0.00      0.00      0.00         1\n",
      "        53.0       0.00      0.00      0.00         1\n",
      "        54.0       0.00      0.00      0.00         0\n",
      "        55.0       0.00      0.00      0.00         1\n",
      "        56.0       0.00      0.00      0.00         0\n",
      "        59.0       0.00      0.00      0.00         0\n",
      "        65.0       0.00      0.00      0.00         1\n",
      "        69.0       0.00      0.00      0.00         1\n",
      "        70.0       0.00      0.00      0.00         1\n",
      "        72.0       0.00      0.00      0.00         0\n",
      "        76.0       0.00      0.00      0.00         0\n",
      "        77.0       0.00      0.00      0.00         2\n",
      "        79.0       0.00      0.00      0.00         1\n",
      "        81.0       0.00      0.00      0.00         1\n",
      "        86.0       0.00      0.00      0.00         0\n",
      "        87.0       0.00      0.00      0.00         1\n",
      "        91.0       0.00      0.00      0.00         1\n",
      "       148.0       0.00      0.00      0.00         1\n",
      "       149.0       0.00      0.00      0.00         1\n",
      "       152.0       0.00      0.00      0.00         1\n",
      "       155.0       0.00      0.00      0.00         1\n",
      "       162.0       0.00      0.00      0.00         0\n",
      "       170.0       0.00      0.00      0.00         1\n",
      "       189.0       0.00      0.00      0.00         0\n",
      "       202.0       0.00      0.00      0.00         1\n",
      "       230.0       0.00      0.00      0.00         1\n",
      "       297.0       0.00      0.00      0.00         1\n",
      "       451.0       0.00      0.00      0.00         0\n",
      "       625.0       0.00      0.00      0.00         1\n",
      "       702.0       0.00      0.00      0.00         1\n",
      "\n",
      "    accuracy                           0.70      1000\n",
      "   macro avg       0.25      0.24      0.24      1000\n",
      "weighted avg       0.70      0.70      0.69      1000\n",
      "\n"
     ]
    },
    {
     "name": "stderr",
     "output_type": "stream",
     "text": [
      "C:\\Users\\joshl\\anaconda3\\lib\\site-packages\\sklearn\\metrics\\_classification.py:1318: UndefinedMetricWarning: Precision and F-score are ill-defined and being set to 0.0 in labels with no predicted samples. Use `zero_division` parameter to control this behavior.\n",
      "  _warn_prf(average, modifier, msg_start, len(result))\n",
      "C:\\Users\\joshl\\anaconda3\\lib\\site-packages\\sklearn\\metrics\\_classification.py:1318: UndefinedMetricWarning: Recall and F-score are ill-defined and being set to 0.0 in labels with no true samples. Use `zero_division` parameter to control this behavior.\n",
      "  _warn_prf(average, modifier, msg_start, len(result))\n",
      "C:\\Users\\joshl\\anaconda3\\lib\\site-packages\\sklearn\\metrics\\_classification.py:1318: UndefinedMetricWarning: Precision and F-score are ill-defined and being set to 0.0 in labels with no predicted samples. Use `zero_division` parameter to control this behavior.\n",
      "  _warn_prf(average, modifier, msg_start, len(result))\n",
      "C:\\Users\\joshl\\anaconda3\\lib\\site-packages\\sklearn\\metrics\\_classification.py:1318: UndefinedMetricWarning: Recall and F-score are ill-defined and being set to 0.0 in labels with no true samples. Use `zero_division` parameter to control this behavior.\n",
      "  _warn_prf(average, modifier, msg_start, len(result))\n",
      "C:\\Users\\joshl\\anaconda3\\lib\\site-packages\\sklearn\\metrics\\_classification.py:1318: UndefinedMetricWarning: Precision and F-score are ill-defined and being set to 0.0 in labels with no predicted samples. Use `zero_division` parameter to control this behavior.\n",
      "  _warn_prf(average, modifier, msg_start, len(result))\n",
      "C:\\Users\\joshl\\anaconda3\\lib\\site-packages\\sklearn\\metrics\\_classification.py:1318: UndefinedMetricWarning: Recall and F-score are ill-defined and being set to 0.0 in labels with no true samples. Use `zero_division` parameter to control this behavior.\n",
      "  _warn_prf(average, modifier, msg_start, len(result))\n"
     ]
    }
   ],
   "source": [
    "# Evaluate the performance of the classifier\n",
    "from sklearn.metrics import accuracy_score, classification_report\n",
    "\n",
    "print('Accuracy:', accuracy_score(y_test, y_pred))\n",
    "print('Classification Report:\\n', classification_report(y_test, y_pred))"
   ]
  },
  {
   "cell_type": "markdown",
   "metadata": {},
   "source": [
    "### Feature Engineering"
   ]
  },
  {
   "cell_type": "markdown",
   "metadata": {},
   "source": [
    "Feature engineering will play a crucial role in this problems. We have only very little attributes so we need to create some features that will have some predictive power.\n",
    "\n",
    "- weather: we can use some weather API to look for the weather in time of the scheduled departure and scheduled arrival.\n",
    "- statistics (avg, mean, median, std, min, max...): we can take a look at previous delays and compute descriptive statistics\n",
    "- airports encoding: we need to think about what to do with the airports and other categorical variables\n",
    "- time of the day: the delay probably depends on the airport traffic which varies during the day.\n",
    "- airport traffic\n",
    "- unsupervised learning as feature engineering?\n",
    "- **what are the additional options?**: Think about what we could do more to improve the model."
   ]
  },
  {
   "cell_type": "code",
   "execution_count": null,
   "metadata": {},
   "outputs": [],
   "source": []
  },
  {
   "cell_type": "code",
   "execution_count": null,
   "metadata": {},
   "outputs": [],
   "source": []
  },
  {
   "cell_type": "code",
   "execution_count": null,
   "metadata": {},
   "outputs": [],
   "source": []
  },
  {
   "cell_type": "code",
   "execution_count": null,
   "metadata": {},
   "outputs": [],
   "source": []
  },
  {
   "cell_type": "code",
   "execution_count": null,
   "metadata": {},
   "outputs": [],
   "source": []
  },
  {
   "cell_type": "markdown",
   "metadata": {},
   "source": [
    "### Feature Selection / Dimensionality Reduction"
   ]
  },
  {
   "cell_type": "markdown",
   "metadata": {},
   "source": [
    "We need to apply different selection techniques to find out which one will be the best for our problems.\n",
    "\n",
    "- Original Features vs. PCA conponents?"
   ]
  },
  {
   "cell_type": "code",
   "execution_count": null,
   "metadata": {},
   "outputs": [],
   "source": []
  },
  {
   "cell_type": "code",
   "execution_count": null,
   "metadata": {},
   "outputs": [],
   "source": []
  },
  {
   "cell_type": "code",
   "execution_count": null,
   "metadata": {},
   "outputs": [],
   "source": []
  },
  {
   "cell_type": "code",
   "execution_count": null,
   "metadata": {},
   "outputs": [],
   "source": []
  },
  {
   "cell_type": "code",
   "execution_count": null,
   "metadata": {},
   "outputs": [],
   "source": []
  },
  {
   "cell_type": "markdown",
   "metadata": {},
   "source": [
    "### Modeling"
   ]
  },
  {
   "cell_type": "markdown",
   "metadata": {},
   "source": [
    "Use different ML techniques to predict each problem.\n",
    "\n",
    "- linear / logistic / multinomial logistic regression\n",
    "- Naive Bayes\n",
    "- Random Forest\n",
    "- SVM\n",
    "- XGBoost\n",
    "- The ensemble of your own choice"
   ]
  },
  {
   "cell_type": "code",
   "execution_count": null,
   "metadata": {},
   "outputs": [],
   "source": []
  },
  {
   "cell_type": "code",
   "execution_count": null,
   "metadata": {},
   "outputs": [],
   "source": []
  },
  {
   "cell_type": "code",
   "execution_count": null,
   "metadata": {},
   "outputs": [],
   "source": []
  },
  {
   "cell_type": "code",
   "execution_count": null,
   "metadata": {},
   "outputs": [],
   "source": []
  },
  {
   "cell_type": "markdown",
   "metadata": {},
   "source": [
    "### Evaluation"
   ]
  },
  {
   "cell_type": "markdown",
   "metadata": {},
   "source": [
    "You have data from 2018 and 2019 to develop models. Use different evaluation metrics for each problem and compare the performance of different models.\n",
    "\n",
    "You are required to predict delays on **out of sample** data from **first 7 days (1st-7th) of January 2020** and to share the file with LighthouseLabs. Sample submission can be found in the file **_sample_submission.csv_**"
   ]
  },
  {
   "cell_type": "code",
   "execution_count": null,
   "metadata": {},
   "outputs": [],
   "source": []
  },
  {
   "cell_type": "code",
   "execution_count": null,
   "metadata": {},
   "outputs": [],
   "source": []
  },
  {
   "cell_type": "code",
   "execution_count": null,
   "metadata": {},
   "outputs": [],
   "source": []
  },
  {
   "cell_type": "code",
   "execution_count": null,
   "metadata": {},
   "outputs": [],
   "source": []
  },
  {
   "cell_type": "markdown",
   "metadata": {},
   "source": [
    "======================================================================\n",
    "## Stretch Tasks"
   ]
  },
  {
   "cell_type": "markdown",
   "metadata": {},
   "source": [
    "### Multiclass Classification"
   ]
  },
  {
   "cell_type": "markdown",
   "metadata": {},
   "source": [
    "The target variables are **CARRIER_DELAY, WEATHER_DELAY, NAS_DELAY, SECURITY_DELAY, LATE_AIRCRAFT_DELAY**. We need to do additional transformations because these variables are not binary but continuos. For each flight that was delayed, we need to have one of these variables as 1 and others 0.\n",
    "\n",
    "It can happen that we have two types of delays with more than 0 minutes. In this case, take the bigger one as 1 and others as 0."
   ]
  },
  {
   "cell_type": "code",
   "execution_count": null,
   "metadata": {},
   "outputs": [],
   "source": []
  },
  {
   "cell_type": "code",
   "execution_count": null,
   "metadata": {},
   "outputs": [],
   "source": []
  },
  {
   "cell_type": "code",
   "execution_count": null,
   "metadata": {},
   "outputs": [],
   "source": []
  },
  {
   "cell_type": "markdown",
   "metadata": {},
   "source": [
    "### Binary Classification"
   ]
  },
  {
   "cell_type": "markdown",
   "metadata": {},
   "source": [
    "The target variable is **CANCELLED**. The main problem here is going to be huge class imbalance. We have only very little cancelled flights with comparison to all flights. It is important to do the right sampling before training and to choose correct evaluation metrics."
   ]
  },
  {
   "cell_type": "code",
   "execution_count": null,
   "metadata": {},
   "outputs": [],
   "source": []
  },
  {
   "cell_type": "code",
   "execution_count": null,
   "metadata": {},
   "outputs": [],
   "source": []
  },
  {
   "cell_type": "code",
   "execution_count": null,
   "metadata": {},
   "outputs": [],
   "source": []
  }
 ],
 "metadata": {
  "kernelspec": {
   "display_name": "Python 3 (ipykernel)",
   "language": "python",
   "name": "python3"
  },
  "language_info": {
   "codemirror_mode": {
    "name": "ipython",
    "version": 3
   },
   "file_extension": ".py",
   "mimetype": "text/x-python",
   "name": "python",
   "nbconvert_exporter": "python",
   "pygments_lexer": "ipython3",
   "version": "3.9.13"
  }
 },
 "nbformat": 4,
 "nbformat_minor": 4
}
